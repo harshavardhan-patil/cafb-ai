{
 "cells": [
  {
   "cell_type": "code",
   "execution_count": 38,
   "id": "7fbe8e3a",
   "metadata": {},
   "outputs": [],
   "source": [
    "import os\n",
    "from dotenv import load_dotenv\n",
    "from src.data.rag import retrieve_relevant_context\n",
    "from langchain_community.chat_message_histories import StreamlitChatMessageHistory\n",
    "from langchain_core.prompts import ChatPromptTemplate, MessagesPlaceholder\n",
    "from langchain_core.runnables.history import RunnableWithMessageHistory\n",
    "from langchain_ollama import ChatOllama\n",
    "from langchain_core.tools import tool\n",
    "\n",
    "\n",
    "llm = ChatOllama(\n",
    "    model=\"gemma3\",\n",
    ")"
   ]
  },
  {
   "cell_type": "code",
   "execution_count": 39,
   "id": "6f5ad888",
   "metadata": {},
   "outputs": [
    {
     "data": {
      "text/plain": [
       "RunnableBinding(bound=ChatOllama(model='gemma3'), kwargs={'tools': [{'type': 'function', 'function': {'name': 'submit_ticket', 'description': 'Submits a Jira Ticket once all required information is passed', 'parameters': {'properties': {'name': {'type': 'string'}, 'email': {'type': 'string'}}, 'required': ['name', 'email'], 'type': 'object'}}}]}, config={}, config_factories=[])"
      ]
     },
     "execution_count": 39,
     "metadata": {},
     "output_type": "execute_result"
    }
   ],
   "source": [
    "@tool\n",
    "def submit_ticket(name: str, email: str) -> None:\n",
    "    \"\"\"Submits a Jira Ticket once all required information is passed\"\"\"\n",
    "    print(\"Hooray, a ticket has been created for {name} with email {email}\")\n",
    "\n",
    "llm.bind_tools([submit_ticket])"
   ]
  },
  {
   "cell_type": "code",
   "execution_count": 40,
   "id": "dd57a30c",
   "metadata": {},
   "outputs": [],
   "source": [
    "system_prompt = \"\"\"\n",
    "You are a frontdesk assistant for Capital Area Food Bank (CAFB).\n",
    "\n",
    "A partner is creating a new issue of type: Delivery Issues/Damaged Goods.\n",
    "Help them by gathering more information about their issue so that a Jira Ticket can be created. You need to get their name and email. Once you have their name and email, you can create Jira Ticket using functions\n",
    "\n",
    "You have access to functions. If you decide to invoke any of the function(s), you MUST put it in the format of\n",
    "[func_name1(params_name1=params_value1, params_name2=params_value2...), func_name2(params)]\n",
    "\n",
    "You SHOULD NOT include any other text in the response if you call a function\n",
    "[\n",
    "  {\n",
    "    \"name\": \"submit_ticket\",\n",
    "    \"description\": \"Submits a Jira Ticket once all required information is passed\",\n",
    "    \"parameters\": {\n",
    "      \"type\": \"object\",\n",
    "      \"properties\": {\n",
    "        \"name\": {\n",
    "          \"type\": \"string\"\n",
    "        },\n",
    "        \"email\": {\n",
    "          \"type\": \"string\"\n",
    "        }\n",
    "      },\n",
    "      \"required\": [\n",
    "        \"name\",\n",
    "        \"email\"\n",
    "      ]\n",
    "    }\n",
    "  }\n",
    "]\n",
    "\n",
    "\n",
    "DO NOT MAKE UP OR SIMULATE INFORMATION.\n",
    "\"\"\".replace(\"{\", \"{{\").replace(\"}\", \"}}\")\n",
    "\n",
    "question = \"\"\"\n",
    "Hello, I need help with my damaged goods. My name is Harsh and my email is patil@gmail.com. Please help me\n",
    "\"\"\"\n",
    "\n",
    "prompt = ChatPromptTemplate.from_messages(\n",
    "    [\n",
    "        (\"system\", system_prompt),\n",
    "        (\"human\", \"{question}\"),\n",
    "    ]\n",
    ")\n",
    "\n",
    "chain = prompt | llm"
   ]
  },
  {
   "cell_type": "code",
   "execution_count": 42,
   "id": "462c500a",
   "metadata": {},
   "outputs": [
    {
     "data": {
      "text/plain": [
       "AIMessage(content='[submit_ticket(name=\"Harsh\", email=\"patil@gmail.com\")]', additional_kwargs={}, response_metadata={'model': 'gemma3', 'created_at': '2025-04-15T04:27:24.588369491Z', 'done': True, 'done_reason': 'stop', 'total_duration': 762345564, 'load_duration': 56928887, 'prompt_eval_count': 325, 'prompt_eval_duration': 38407237, 'eval_count': 20, 'eval_duration': 665215670, 'message': Message(role='assistant', content='', images=None, tool_calls=None)}, id='run-023e0d84-043d-40cb-985b-8d5ab3ed866c-0', usage_metadata={'input_tokens': 325, 'output_tokens': 20, 'total_tokens': 345})"
      ]
     },
     "execution_count": 42,
     "metadata": {},
     "output_type": "execute_result"
    }
   ],
   "source": [
    "output = chain.invoke({\"question\": question,})\n",
    "output"
   ]
  },
  {
   "cell_type": "code",
   "execution_count": 44,
   "id": "15c43de7",
   "metadata": {},
   "outputs": [
    {
     "name": "stdout",
     "output_type": "stream",
     "text": [
      "Hooray, a ticket has been created for Harsh with email patil@gmail.com\n",
      "Tool Output: Ticket created for Harsh with patil@gmail.com\n"
     ]
    }
   ],
   "source": [
    "import re\n",
    "from langchain_ollama import ChatOllama\n",
    "from langchain_core.prompts import ChatPromptTemplate\n",
    "from langchain_core.tools import tool\n",
    "\n",
    "# 1. Define the tool\n",
    "@tool\n",
    "def submit_ticket(name: str, email: str) -> str:\n",
    "    \"\"\"Submits a Jira Ticket once all required information is passed\"\"\"\n",
    "    print(f\"Hooray, a ticket has been created for {name} with email {email}\")\n",
    "    return f\"Ticket created for {name} with {email}\"\n",
    "\n",
    "# 2. Use ChatOllama directly (no .with_tools)\n",
    "llm = ChatOllama(model=\"gemma3\")\n",
    "\n",
    "# 3. Prompt construction\n",
    "system_prompt = \"\"\"\n",
    "You are a frontdesk assistant for Capital Area Food Bank (CAFB).\n",
    "\n",
    "A partner is creating a new issue of type: Delivery Issues/Damaged Goods.\n",
    "Help them by gathering more information about their issue so that a Jira Ticket can be created. You need to get their name and email. Once you have their name and email, you can create Jira Ticket using functions.\n",
    "\n",
    "You have access to functions. If you decide to invoke any of the function(s), you MUST put it in the format of\n",
    "[submit_ticket(name=\"...\", email=\"...\")]\n",
    "You SHOULD NOT include any other text in the response if you call a function.\n",
    "\"\"\".replace(\"{\", \"{{\").replace(\"}\", \"}}\")\n",
    "\n",
    "question = \"Hello, I need help with my damaged goods. My name is Harsh and my email is patil@gmail.com. Please help me\"\n",
    "\n",
    "prompt = ChatPromptTemplate.from_messages([\n",
    "    (\"system\", system_prompt),\n",
    "    (\"human\", \"{question}\")\n",
    "])\n",
    "\n",
    "# 4. Run the LLM\n",
    "chain = prompt | llm\n",
    "response = chain.invoke({\"question\": question})\n",
    "\n",
    "# 5. Manually parse for function call\n",
    "match = re.search(r'submit_ticket\\(name=\"(.+?)\", email=\"(.+?)\"\\)', response.content)\n",
    "if match:\n",
    "    name = match.group(1)\n",
    "    email = match.group(2)\n",
    "    result = submit_ticket.invoke({\"name\": name, \"email\": email})\n",
    "    print(\"Tool Output:\", result)\n",
    "else:\n",
    "    print(\"No tool call detected.\")\n"
   ]
  },
  {
   "cell_type": "code",
   "execution_count": 46,
   "id": "acab2152",
   "metadata": {},
   "outputs": [
    {
     "name": "stdout",
     "output_type": "stream",
     "text": [
      "content='' additional_kwargs={} response_metadata={'model': 'mistral-small', 'created_at': '2025-04-15T04:31:15.298583717Z', 'done': True, 'done_reason': 'stop', 'total_duration': 22079905837, 'load_duration': 10600946065, 'prompt_eval_count': 188, 'prompt_eval_duration': 1528294533, 'eval_count': 28, 'eval_duration': 9945355378, 'message': Message(role='assistant', content='', images=None, tool_calls=None)} id='run-e8d723e7-958c-489a-b163-269709e0f65b-0' tool_calls=[{'name': 'submit_ticket', 'args': {'email': 'patil@gmail.com', 'name': 'Harsh'}, 'id': '623098d6-d5ba-4334-94b9-47287d7ccd7e', 'type': 'tool_call'}] usage_metadata={'input_tokens': 188, 'output_tokens': 28, 'total_tokens': 216}\n"
     ]
    }
   ],
   "source": [
    "import os\n",
    "from dotenv import load_dotenv\n",
    "from langchain_community.chat_message_histories import StreamlitChatMessageHistory\n",
    "from langchain_core.prompts import ChatPromptTemplate, MessagesPlaceholder\n",
    "from langchain_core.runnables.history import RunnableWithMessageHistory\n",
    "from langchain_ollama import ChatOllama\n",
    "from langchain_core.tools import tool\n",
    "\n",
    "# Set up the LLM\n",
    "llm = ChatOllama(\n",
    "    model=\"mistral-small\",\n",
    ")\n",
    "\n",
    "@tool\n",
    "def submit_ticket(name: str, email: str) -> str:\n",
    "    \"\"\"Submits a Jira Ticket once all required information is passed\"\"\"\n",
    "    print(f\"Hooray, a ticket has been created for {name} with email {email}\")\n",
    "    return f\"Successfully created a ticket for {name} with email {email}\"\n",
    "\n",
    "# Bind tools to the LLM\n",
    "llm_with_tools = llm.bind_tools([submit_ticket])\n",
    "\n",
    "# Modified system prompt to use standard tool calling format\n",
    "system_prompt = \"\"\"\n",
    "You are a frontdesk assistant for Capital Area Food Bank (CAFB).\n",
    "\n",
    "A partner is creating a new issue of type: Delivery Issues/Damaged Goods. Help them by gathering more information about their issue so that a Jira Ticket can be created. You need to get their name and email.\n",
    "\n",
    "Once you have their name and email, you MUST use the submit_ticket tool to create a Jira Ticket.\n",
    "\"\"\"\n",
    "\n",
    "question = \"\"\"\n",
    "Hello, I need help with my damaged goods. My name is Harsh and my email is patil@gmail.com. Please help me\n",
    "\"\"\"\n",
    "\n",
    "prompt = ChatPromptTemplate.from_messages([\n",
    "    (\"system\", system_prompt),\n",
    "    (\"human\", \"{question}\"),\n",
    "])\n",
    "\n",
    "# Create the chain with the LLM that has tools bound to it\n",
    "chain = prompt | llm_with_tools\n",
    "\n",
    "# Run the chain\n",
    "output = chain.invoke({\"question\": question})\n",
    "print(output)"
   ]
  },
  {
   "cell_type": "code",
   "execution_count": 48,
   "id": "0a179828",
   "metadata": {},
   "outputs": [
    {
     "data": {
      "text/plain": [
       "[{'name': 'submit_ticket',\n",
       "  'args': {'email': 'patil@gmail.com', 'name': 'Harsh'},\n",
       "  'id': '623098d6-d5ba-4334-94b9-47287d7ccd7e',\n",
       "  'type': 'tool_call'}]"
      ]
     },
     "execution_count": 48,
     "metadata": {},
     "output_type": "execute_result"
    }
   ],
   "source": [
    "output.tool_calls"
   ]
  },
  {
   "cell_type": "code",
   "execution_count": null,
   "id": "9a898e09",
   "metadata": {},
   "outputs": [],
   "source": []
  }
 ],
 "metadata": {
  "kernelspec": {
   "display_name": ".venv",
   "language": "python",
   "name": "python3"
  },
  "language_info": {
   "codemirror_mode": {
    "name": "ipython",
    "version": 3
   },
   "file_extension": ".py",
   "mimetype": "text/x-python",
   "name": "python",
   "nbconvert_exporter": "python",
   "pygments_lexer": "ipython3",
   "version": "3.11.12"
  }
 },
 "nbformat": 4,
 "nbformat_minor": 5
}
