{
 "cells": [
  {
   "cell_type": "code",
   "execution_count": 38,
   "id": "7fbe8e3a",
   "metadata": {},
   "outputs": [],
   "source": [
    "import os\n",
    "from dotenv import load_dotenv\n",
    "from src.data.rag import retrieve_relevant_context\n",
    "from langchain_community.chat_message_histories import StreamlitChatMessageHistory\n",
    "from langchain_core.prompts import ChatPromptTemplate, MessagesPlaceholder\n",
    "from langchain_core.runnables.history import RunnableWithMessageHistory\n",
    "from langchain_ollama import ChatOllama\n",
    "from langchain_core.tools import tool\n",
    "\n",
    "\n",
    "llm = ChatOllama(\n",
    "    model=\"gemma3\",\n",
    ")"
   ]
  },
  {
   "cell_type": "code",
   "execution_count": 39,
   "id": "6f5ad888",
   "metadata": {},
   "outputs": [
    {
     "data": {
      "text/plain": [
       "RunnableBinding(bound=ChatOllama(model='gemma3'), kwargs={'tools': [{'type': 'function', 'function': {'name': 'submit_ticket', 'description': 'Submits a Jira Ticket once all required information is passed', 'parameters': {'properties': {'name': {'type': 'string'}, 'email': {'type': 'string'}}, 'required': ['name', 'email'], 'type': 'object'}}}]}, config={}, config_factories=[])"
      ]
     },
     "execution_count": 39,
     "metadata": {},
     "output_type": "execute_result"
    }
   ],
   "source": [
    "@tool\n",
    "def submit_ticket(name: str, email: str) -> None:\n",
    "    \"\"\"Submits a Jira Ticket once all required information is passed\"\"\"\n",
    "    print(\"Hooray, a ticket has been created for {name} with email {email}\")\n",
    "\n",
    "llm.bind_tools([submit_ticket])"
   ]
  },
  {
   "cell_type": "code",
   "execution_count": 40,
   "id": "dd57a30c",
   "metadata": {},
   "outputs": [],
   "source": [
    "system_prompt = \"\"\"\n",
    "You are a frontdesk assistant for Capital Area Food Bank (CAFB).\n",
    "\n",
    "A partner is creating a new issue of type: Delivery Issues/Damaged Goods.\n",
    "Help them by gathering more information about their issue so that a Jira Ticket can be created. You need to get their name and email. Once you have their name and email, you can create Jira Ticket using functions\n",
    "\n",
    "You have access to functions. If you decide to invoke any of the function(s), you MUST put it in the format of\n",
    "[func_name1(params_name1=params_value1, params_name2=params_value2...), func_name2(params)]\n",
    "\n",
    "You SHOULD NOT include any other text in the response if you call a function\n",
    "[\n",
    "  {\n",
    "    \"name\": \"submit_ticket\",\n",
    "    \"description\": \"Submits a Jira Ticket once all required information is passed\",\n",
    "    \"parameters\": {\n",
    "      \"type\": \"object\",\n",
    "      \"properties\": {\n",
    "        \"name\": {\n",
    "          \"type\": \"string\"\n",
    "        },\n",
    "        \"email\": {\n",
    "          \"type\": \"string\"\n",
    "        }\n",
    "      },\n",
    "      \"required\": [\n",
    "        \"name\",\n",
    "        \"email\"\n",
    "      ]\n",
    "    }\n",
    "  }\n",
    "]\n",
    "\n",
    "\n",
    "DO NOT MAKE UP OR SIMULATE INFORMATION.\n",
    "\"\"\".replace(\"{\", \"{{\").replace(\"}\", \"}}\")\n",
    "\n",
    "question = \"\"\"\n",
    "Hello, I need help with my damaged goods. My name is Harsh and my email is patil@gmail.com. Please help me\n",
    "\"\"\"\n",
    "\n",
    "prompt = ChatPromptTemplate.from_messages(\n",
    "    [\n",
    "        (\"system\", system_prompt),\n",
    "        (\"human\", \"{question}\"),\n",
    "    ]\n",
    ")\n",
    "\n",
    "chain = prompt | llm"
   ]
  },
  {
   "cell_type": "code",
   "execution_count": 42,
   "id": "462c500a",
   "metadata": {},
   "outputs": [
    {
     "data": {
      "text/plain": [
       "AIMessage(content='[submit_ticket(name=\"Harsh\", email=\"patil@gmail.com\")]', additional_kwargs={}, response_metadata={'model': 'gemma3', 'created_at': '2025-04-15T04:27:24.588369491Z', 'done': True, 'done_reason': 'stop', 'total_duration': 762345564, 'load_duration': 56928887, 'prompt_eval_count': 325, 'prompt_eval_duration': 38407237, 'eval_count': 20, 'eval_duration': 665215670, 'message': Message(role='assistant', content='', images=None, tool_calls=None)}, id='run-023e0d84-043d-40cb-985b-8d5ab3ed866c-0', usage_metadata={'input_tokens': 325, 'output_tokens': 20, 'total_tokens': 345})"
      ]
     },
     "execution_count": 42,
     "metadata": {},
     "output_type": "execute_result"
    }
   ],
   "source": [
    "output = chain.invoke({\"question\": question,})\n",
    "output"
   ]
  },
  {
   "cell_type": "code",
   "execution_count": 44,
   "id": "15c43de7",
   "metadata": {},
   "outputs": [
    {
     "name": "stdout",
     "output_type": "stream",
     "text": [
      "Hooray, a ticket has been created for Harsh with email patil@gmail.com\n",
      "Tool Output: Ticket created for Harsh with patil@gmail.com\n"
     ]
    }
   ],
   "source": [
    "import re\n",
    "from langchain_ollama import ChatOllama\n",
    "from langchain_core.prompts import ChatPromptTemplate\n",
    "from langchain_core.tools import tool\n",
    "\n",
    "# 1. Define the tool\n",
    "@tool\n",
    "def submit_ticket(name: str, email: str) -> str:\n",
    "    \"\"\"Submits a Jira Ticket once all required information is passed\"\"\"\n",
    "    print(f\"Hooray, a ticket has been created for {name} with email {email}\")\n",
    "    return f\"Ticket created for {name} with {email}\"\n",
    "\n",
    "# 2. Use ChatOllama directly (no .with_tools)\n",
    "llm = ChatOllama(model=\"gemma3\")\n",
    "\n",
    "# 3. Prompt construction\n",
    "system_prompt = \"\"\"\n",
    "You are a frontdesk assistant for Capital Area Food Bank (CAFB).\n",
    "\n",
    "A partner is creating a new issue of type: Delivery Issues/Damaged Goods.\n",
    "Help them by gathering more information about their issue so that a Jira Ticket can be created. You need to get their name and email. Once you have their name and email, you can create Jira Ticket using functions.\n",
    "\n",
    "You have access to functions. If you decide to invoke any of the function(s), you MUST put it in the format of\n",
    "[submit_ticket(name=\"...\", email=\"...\")]\n",
    "You SHOULD NOT include any other text in the response if you call a function.\n",
    "\"\"\".replace(\"{\", \"{{\").replace(\"}\", \"}}\")\n",
    "\n",
    "question = \"Hello, I need help with my damaged goods. My name is Harsh and my email is patil@gmail.com. Please help me\"\n",
    "\n",
    "prompt = ChatPromptTemplate.from_messages([\n",
    "    (\"system\", system_prompt),\n",
    "    (\"human\", \"{question}\")\n",
    "])\n",
    "\n",
    "# 4. Run the LLM\n",
    "chain = prompt | llm\n",
    "response = chain.invoke({\"question\": question})\n",
    "\n",
    "# 5. Manually parse for function call\n",
    "match = re.search(r'submit_ticket\\(name=\"(.+?)\", email=\"(.+?)\"\\)', response.content)\n",
    "if match:\n",
    "    name = match.group(1)\n",
    "    email = match.group(2)\n",
    "    result = submit_ticket.invoke({\"name\": name, \"email\": email})\n",
    "    print(\"Tool Output:\", result)\n",
    "else:\n",
    "    print(\"No tool call detected.\")\n"
   ]
  },
  {
   "cell_type": "code",
   "execution_count": 46,
   "id": "acab2152",
   "metadata": {},
   "outputs": [
    {
     "name": "stdout",
     "output_type": "stream",
     "text": [
      "content='' additional_kwargs={} response_metadata={'model': 'mistral-small', 'created_at': '2025-04-15T04:31:15.298583717Z', 'done': True, 'done_reason': 'stop', 'total_duration': 22079905837, 'load_duration': 10600946065, 'prompt_eval_count': 188, 'prompt_eval_duration': 1528294533, 'eval_count': 28, 'eval_duration': 9945355378, 'message': Message(role='assistant', content='', images=None, tool_calls=None)} id='run-e8d723e7-958c-489a-b163-269709e0f65b-0' tool_calls=[{'name': 'submit_ticket', 'args': {'email': 'patil@gmail.com', 'name': 'Harsh'}, 'id': '623098d6-d5ba-4334-94b9-47287d7ccd7e', 'type': 'tool_call'}] usage_metadata={'input_tokens': 188, 'output_tokens': 28, 'total_tokens': 216}\n"
     ]
    }
   ],
   "source": [
    "import os\n",
    "from dotenv import load_dotenv\n",
    "from langchain_community.chat_message_histories import StreamlitChatMessageHistory\n",
    "from langchain_core.prompts import ChatPromptTemplate, MessagesPlaceholder\n",
    "from langchain_core.runnables.history import RunnableWithMessageHistory\n",
    "from langchain_ollama import ChatOllama\n",
    "from langchain_core.tools import tool\n",
    "\n",
    "# Set up the LLM\n",
    "llm = ChatOllama(\n",
    "    model=\"mistral-small\",\n",
    ")\n",
    "\n",
    "@tool\n",
    "def submit_ticket(name: str, email: str) -> str:\n",
    "    \"\"\"Submits a Jira Ticket once all required information is passed\"\"\"\n",
    "    print(f\"Hooray, a ticket has been created for {name} with email {email}\")\n",
    "    return f\"Successfully created a ticket for {name} with email {email}\"\n",
    "\n",
    "# Bind tools to the LLM\n",
    "llm_with_tools = llm.bind_tools([submit_ticket])\n",
    "\n",
    "# Modified system prompt to use standard tool calling format\n",
    "system_prompt = \"\"\"\n",
    "You are a frontdesk assistant for Capital Area Food Bank (CAFB).\n",
    "\n",
    "A partner is creating a new issue of type: Delivery Issues/Damaged Goods. Help them by gathering more information about their issue so that a Jira Ticket can be created. You need to get their name and email.\n",
    "\n",
    "Once you have their name and email, you MUST use the submit_ticket tool to create a Jira Ticket.\n",
    "\"\"\"\n",
    "\n",
    "question = \"\"\"\n",
    "Hello, I need help with my damaged goods. My name is Harsh and my email is patil@gmail.com. Please help me\n",
    "\"\"\"\n",
    "\n",
    "prompt = ChatPromptTemplate.from_messages([\n",
    "    (\"system\", system_prompt),\n",
    "    (\"human\", \"{question}\"),\n",
    "])\n",
    "\n",
    "# Create the chain with the LLM that has tools bound to it\n",
    "chain = prompt | llm_with_tools\n",
    "\n",
    "# Run the chain\n",
    "output = chain.invoke({\"question\": question})\n",
    "print(output)"
   ]
  },
  {
   "cell_type": "code",
   "execution_count": 48,
   "id": "0a179828",
   "metadata": {},
   "outputs": [
    {
     "data": {
      "text/plain": [
       "[{'name': 'submit_ticket',\n",
       "  'args': {'email': 'patil@gmail.com', 'name': 'Harsh'},\n",
       "  'id': '623098d6-d5ba-4334-94b9-47287d7ccd7e',\n",
       "  'type': 'tool_call'}]"
      ]
     },
     "execution_count": 48,
     "metadata": {},
     "output_type": "execute_result"
    }
   ],
   "source": [
    "output.tool_calls"
   ]
  },
  {
   "cell_type": "code",
   "execution_count": 9,
   "id": "9360edab",
   "metadata": {},
   "outputs": [
    {
     "name": "stdout",
     "output_type": "stream",
     "text": [
      "gpt-4o-audio-preview-2024-12-17\n",
      "dall-e-3\n",
      "text-embedding-3-large\n",
      "dall-e-2\n",
      "gpt-4o-audio-preview-2024-10-01\n",
      "gpt-4.1-mini\n",
      "gpt-4.1-mini-2025-04-14\n",
      "gpt-4.1-nano\n",
      "gpt-4.1-nano-2025-04-14\n",
      "gpt-4o-realtime-preview-2024-10-01\n",
      "gpt-4o-realtime-preview\n",
      "babbage-002\n",
      "tts-1-hd-1106\n",
      "gpt-4\n",
      "text-embedding-ada-002\n",
      "tts-1-hd\n",
      "gpt-4o-mini-audio-preview\n",
      "gpt-4o-audio-preview\n",
      "o1-preview-2024-09-12\n",
      "gpt-4o-mini-realtime-preview\n",
      "gpt-4o-mini-realtime-preview-2024-12-17\n",
      "gpt-3.5-turbo-instruct-0914\n",
      "gpt-4-0125-preview\n",
      "gpt-4o-mini-search-preview\n",
      "gpt-4-turbo-preview\n",
      "tts-1-1106\n",
      "chatgpt-4o-latest\n",
      "davinci-002\n",
      "gpt-3.5-turbo-1106\n",
      "gpt-4-turbo\n",
      "gpt-4o-realtime-preview-2024-12-17\n",
      "gpt-3.5-turbo-instruct\n",
      "gpt-3.5-turbo\n",
      "gpt-4o-mini-search-preview-2025-03-11\n",
      "gpt-4o-2024-11-20\n",
      "whisper-1\n",
      "gpt-4.1\n",
      "gpt-4.1-2025-04-14\n",
      "gpt-4o-2024-05-13\n",
      "gpt-3.5-turbo-16k\n",
      "gpt-4-turbo-2024-04-09\n",
      "gpt-4-1106-preview\n",
      "o1-preview\n",
      "gpt-4-0613\n",
      "gpt-4o-search-preview\n",
      "gpt-4.5-preview\n",
      "gpt-4.5-preview-2025-02-27\n",
      "gpt-4o-search-preview-2025-03-11\n",
      "tts-1\n",
      "omni-moderation-2024-09-26\n",
      "text-embedding-3-small\n",
      "gpt-4o-mini-tts\n",
      "gpt-4o\n",
      "gpt-4o-mini\n",
      "gpt-4o-2024-08-06\n",
      "gpt-4o-transcribe\n",
      "gpt-4o-mini-2024-07-18\n",
      "gpt-4o-mini-transcribe\n",
      "o1-mini\n",
      "gpt-4o-mini-audio-preview-2024-12-17\n",
      "gpt-3.5-turbo-0125\n",
      "o1-mini-2024-09-12\n",
      "omni-moderation-latest\n"
     ]
    }
   ],
   "source": [
    "from openai import OpenAI\n",
    "import os\n",
    "client = OpenAI(\n",
    "    api_key = os.getenv('OPENAI_API_KEY')\n",
    ")\n",
    "models = client.models.list()\n",
    "for model in models:\n",
    "    print(model.id)"
   ]
  },
  {
   "cell_type": "code",
   "execution_count": null,
   "id": "a15738c0",
   "metadata": {},
   "outputs": [],
   "source": [
    "from langchain_openai import ChatOpenAI\n",
    "from src.data.jira import get_issue_context, get_issue_kb\n",
    "from langchain_core.runnables.history import RunnableWithMessageHistory\n",
    "from operator import itemgetter\n",
    "from langchain_openai.chat_models import ChatOpenAI\n",
    "from langchain_core.chat_history import BaseChatMessageHistory\n",
    "from langchain_core.documents import Document\n",
    "from langchain_core.messages import BaseMessage, AIMessage\n",
    "from langchain_core.prompts import ChatPromptTemplate, MessagesPlaceholder\n",
    "from pydantic import BaseModel, Field\n",
    "from langchain_core.runnables import (\n",
    "    RunnableLambda,\n",
    "    ConfigurableFieldSpec,\n",
    "    RunnablePassthrough,\n",
    ")\n",
    "from langchain_core.runnables.history import RunnableWithMessageHistory\n",
    "\n",
    "\n",
    "llm = ChatOpenAI(model='gpt-3.5-turbo-instruct')\n",
    "\n",
    "issue_context = get_issue_context('CAFBSS-456').replace(\"{\", \"{{\").replace(\"}\", \"}}\")\n",
    "issue_kb = get_issue_kb('CAFBSS-456').replace(\"{\", \"{{\").replace(\"}\", \"}}\")\n",
    "system_prompt = f\"\"\"\n",
    "You are a frontdesk assistant for Capital Area Food Bank (CAFB). \n",
    "A partner is inquiring about an existing ticket with ID: CAFBSS-456.\n",
    "\n",
    "Try to provide helpful context and solutions related to this ticket.\n",
    "Use the Ticket Context and Knowledge Base to answer questions\n",
    "If the answer cannot be found in the context or if no context is given, say so clearly and suggest how the user might refine their question. \n",
    "DO NOT MAKE UP OR SIMULATE INFORMATION.\n",
    "\n",
    "Ticket Context: {issue_context}\n",
    "    \n",
    "##############\n",
    "Knowledge Base: {issue_kb}\n",
    "\"\"\"\n",
    "\n",
    "class InMemoryHistory(BaseChatMessageHistory, BaseModel):\n",
    "    \"\"\"In memory implementation of chat message history.\"\"\"\n",
    "\n",
    "    messages: list[BaseMessage] = Field(default_factory=list)\n",
    "\n",
    "    def add_messages(self, messages: list[BaseMessage]) -> None:\n",
    "        \"\"\"Add a list of messages to the store\"\"\"\n",
    "        self.messages.extend(messages)\n",
    "\n",
    "    def clear(self) -> None:\n",
    "        self.messages = []\n",
    "\n",
    "# Here we use a global variable to store the chat message history.\n",
    "# This will make it easier to inspect it to see the underlying results.\n",
    "store = {}\n",
    "\n",
    "def get_by_session_id(session_id: str) -> BaseChatMessageHistory:\n",
    "    if session_id not in store:\n",
    "        store[session_id] = InMemoryHistory()\n",
    "    return store[session_id]\n",
    "\n",
    "prompt = ChatPromptTemplate.from_messages(\n",
    "    [\n",
    "        (\"system\", system_prompt),\n",
    "        MessagesPlaceholder(variable_name=\"history\"),\n",
    "        (\"human\", \"{question}\"),\n",
    "    ]\n",
    ")\n",
    "\n",
    "chain = prompt | llm\n",
    "chain_with_history = RunnableWithMessageHistory(\n",
    "    chain,\n",
    "    lambda session_id: msgs,\n",
    "    input_messages_key=\"question\",\n",
    "    history_messages_key=\"history\",\n",
    ")"
   ]
  },
  {
   "cell_type": "code",
   "execution_count": 3,
   "id": "c1ac0f45",
   "metadata": {},
   "outputs": [
    {
     "name": "stderr",
     "output_type": "stream",
     "text": [
      "\u001b[32m2025-04-17 10:09:17.726\u001b[0m | \u001b[1mINFO    \u001b[0m | \u001b[36msrc.config\u001b[0m:\u001b[36m<module>\u001b[0m:\u001b[36m11\u001b[0m - \u001b[1mPROJ_ROOT path is: /home/harshavardhan-patil/Work/Projects/cafb-ai\u001b[0m\n"
     ]
    }
   ],
   "source": [
    "from src.data.db import connect_to_db\n",
    "from src.data.jira import connect_to_jira\n",
    "\n",
    "def close_ticket(issue_key: str, resolution_reason: str, summary: str = None):\n",
    "    \"\"\"\n",
    "    Use this when the partner's issue has been resolved and they confirm the ticket can be closed. Input should be the resolution reason.\n",
    "    \"\"\"\n",
    "    jira = connect_to_jira()\n",
    "    \n",
    "    try:\n",
    "        issue = jira.issue(issue_key)\n",
    "        \n",
    "        # Add summary comment if provided\n",
    "        if summary:\n",
    "            jira.add_comment(issue, f\"Final Summary:\\n\\n{summary}\")\n",
    "        \n",
    "        # Add resolution comment\n",
    "        jira.add_comment(issue, f\"Resolution: {resolution_reason}\")\n",
    "        \n",
    "        # Close the ticket - transition the issue to the \"Done\" status\n",
    "        # Note: The exact transition ID/name may vary based on your JIRA workflow\n",
    "        transitions = jira.transitions(issue)\n",
    "        close_transition = None\n",
    "        \n",
    "        # Find the right transition ID for closing the issue\n",
    "        for t in transitions:\n",
    "            if t['name'].lower() in ['close', 'done', 'resolve', 'closed', 'complete']:\n",
    "                close_transition = t['id']\n",
    "                break\n",
    "        \n",
    "        if close_transition:\n",
    "            jira.transition_issue(\n",
    "                issue,\n",
    "                close_transition\n",
    "            )\n",
    "            \n",
    "            # Update the database record\n",
    "            conn = connect_to_db()\n",
    "            cursor = conn.cursor()\n",
    "            cursor.execute(\n",
    "                \"\"\"\n",
    "                UPDATE jira_issues\n",
    "                SET status = 'Closed', resolved_at = NOW(), updated_at = NOW()\n",
    "                WHERE issue_key = %s\n",
    "                \"\"\",\n",
    "                (issue_key,)\n",
    "            )\n",
    "            conn.commit()\n",
    "            conn.close()\n",
    "            \n",
    "            return {\n",
    "                \"status\": 200,\n",
    "                \"display\": f\"✓ Ticket {issue_key} has been closed successfully\"\n",
    "            }\n",
    "        else:\n",
    "            return {\n",
    "                \"status\": 400,\n",
    "                \"display\": f\"❌ Could not find a transition to close the ticket\"\n",
    "            }\n",
    "        \n",
    "    except Exception as e:\n",
    "        return {\n",
    "            \"status\": 500,\n",
    "            \"display\": f\"❌ Failed to close ticket: {str(e)}\"\n",
    "        }\n",
    "    "
   ]
  },
  {
   "cell_type": "code",
   "execution_count": 5,
   "id": "8cc51d94",
   "metadata": {},
   "outputs": [
    {
     "data": {
      "text/plain": [
       "{'status': 200, 'display': '✓ Ticket CAFBSS-1027 has been closed successfully'}"
      ]
     },
     "execution_count": 5,
     "metadata": {},
     "output_type": "execute_result"
    }
   ],
   "source": [
    "close_ticket('CAFBSS-1027', \"All good\", \"The Partner has indicated that the issue is resolved\")"
   ]
  },
  {
   "cell_type": "code",
   "execution_count": 6,
   "id": "f8a77994",
   "metadata": {},
   "outputs": [],
   "source": [
    "def update_ticket_priority(issue_key: str, new_priority: str, reason: str):\n",
    "    \"\"\"\n",
    "    Use this to update the priority of a JIRA ticket. For escalations use priority High\n",
    "    \"\"\"\n",
    "    jira = connect_to_jira()\n",
    "    \n",
    "    try:\n",
    "        issue = jira.issue(issue_key)\n",
    "        \n",
    "        # Directly update the priority field\n",
    "        issue.update(fields={'priority': {'name': new_priority}})\n",
    "        \n",
    "        # Add comment explaining the escalation\n",
    "        comment_body = f\"Priority escalated to {new_priority}.\\nReason: {reason}\"\n",
    "        jira.add_comment(issue, comment_body)\n",
    "        \n",
    "        # Update the database record\n",
    "        conn = connect_to_db()\n",
    "        cursor = conn.cursor()\n",
    "        cursor.execute(\n",
    "            \"\"\"\n",
    "            UPDATE jira_issues\n",
    "            SET priority = %s, updated_at = NOW()\n",
    "            WHERE issue_key = %s\n",
    "            \"\"\",\n",
    "            (new_priority, issue_key)\n",
    "        )\n",
    "        conn.commit()\n",
    "        conn.close()\n",
    "        \n",
    "        return f\"✓ Ticket {issue_key} priority updated to {new_priority}\"\n",
    "        \n",
    "    except Exception as e:\n",
    "        return {\n",
    "            \"status\": 500,\n",
    "            \"display\": f\"❌ Failed to update ticket priority: {str(e)}\"\n",
    "        }\n"
   ]
  },
  {
   "cell_type": "code",
   "execution_count": 7,
   "id": "5c81770f",
   "metadata": {},
   "outputs": [
    {
     "data": {
      "text/plain": [
       "'✓ Ticket CAFBSS-1029 priority updated to High'"
      ]
     },
     "execution_count": 7,
     "metadata": {},
     "output_type": "execute_result"
    }
   ],
   "source": [
    "update_ticket_priority(\"CAFBSS-1029\", \"High\", \"Cuz work fast pliss\")"
   ]
  },
  {
   "cell_type": "code",
   "execution_count": null,
   "id": "bfb22f3f",
   "metadata": {},
   "outputs": [],
   "source": []
  }
 ],
 "metadata": {
  "kernelspec": {
   "display_name": ".venv",
   "language": "python",
   "name": "python3"
  },
  "language_info": {
   "codemirror_mode": {
    "name": "ipython",
    "version": 3
   },
   "file_extension": ".py",
   "mimetype": "text/x-python",
   "name": "python",
   "nbconvert_exporter": "python",
   "pygments_lexer": "ipython3",
   "version": "3.11.12"
  }
 },
 "nbformat": 4,
 "nbformat_minor": 5
}
