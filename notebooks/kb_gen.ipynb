{
 "cells": [
  {
   "cell_type": "code",
   "execution_count": 6,
   "id": "8137585a",
   "metadata": {},
   "outputs": [],
   "source": [
    "from src.data.db import connect_to_db\n",
    "\n",
    "\n",
    "conn = connect_to_db()\n",
    "cursor = conn.cursor()"
   ]
  },
  {
   "cell_type": "code",
   "execution_count": 2,
   "id": "81374865",
   "metadata": {},
   "outputs": [],
   "source": [
    "cursor.execute(\"\"\"\n",
    "            SELECT i.main_category, i.sub_category, i.description, c.body\n",
    "            FROM jira_issues i, jira_comments c\n",
    "            WHERE i.issue_key = c.issue_key\n",
    "               \"\"\")\n",
    "\n",
    "results = cursor.fetchall()\n",
    "cursor.close()\n",
    "conn.close()"
   ]
  },
  {
   "cell_type": "code",
   "execution_count": 14,
   "id": "2090a1df",
   "metadata": {},
   "outputs": [],
   "source": [
    "from src.utils.constants import CATEGORIES\n",
    "from collections import defaultdict\n",
    "\n",
    "ticket_raw = defaultdict(str)\n",
    "    "
   ]
  },
  {
   "cell_type": "code",
   "execution_count": 15,
   "id": "d54a08ca",
   "metadata": {},
   "outputs": [],
   "source": [
    "for main, sub, desc, comm in results:\n",
    "    ticket_raw[f\"{main}-{sub}\"] += (f\"\\n Description: {desc} \\n Comments: {comm} \\n ***END OF TICKET***\")"
   ]
  },
  {
   "cell_type": "code",
   "execution_count": 19,
   "id": "919e84b0",
   "metadata": {},
   "outputs": [],
   "source": [
    "for key in ticket_raw.keys():\n",
    "    with open(f\"{key}.txt\", \"a\") as f:\n",
    "        f.write(ticket_raw[key])"
   ]
  },
  {
   "cell_type": "code",
   "execution_count": 23,
   "id": "8729a22c",
   "metadata": {},
   "outputs": [
    {
     "name": "stdout",
     "output_type": "stream",
     "text": [
      "delivery-issues-damaged-goods\n",
      "order-modifications-item-removals\n",
      "emergency-situations-weather-related-disruptions\n",
      "delivery-issues-missed-deliveries\n",
      "order-modifications-item-additions\n",
      "other-miscellaneous\n",
      "technical-support-email-&-communication-issues\n",
      "order-modifications-quantity-adjustments\n",
      "delivery-issues-delivery-confirmation-issues\n",
      "order-cancellations-rescheduled-orders\n",
      "delivery-issues-late-deliveries\n",
      "grant-&-billing-issues-grant-fund-usage\n",
      "pickup-scheduling-&-rescheduling-rescheduling-pickup\n",
      "product-availability-&-substitutions-special-item-requests\n",
      "technical-support-website-&-ordering-system-errors\n",
      "pickup-scheduling-&-rescheduling-new-pickup-requests\n",
      "training-&-account-access-new-user-account-requests\n",
      "product-availability-&-substitutions-stock-availability-inquiries\n",
      "pickup-scheduling-&-rescheduling-missed-pickups\n",
      "training-&-account-access-missed-training-sessions\n",
      "training-&-account-access-training-signups\n",
      "grant-&-billing-issues-payment-&-credit-issues\n",
      "grant-&-billing-issues-billing-discrepancies\n",
      "order-modifications-late-modification-requests\n",
      "order-cancellations-urgent-cancellations\n",
      "training-&-account-access-login-issues\n",
      "special-requests-large-event-orders\n",
      "technical-support-general-it-assistance\n",
      "special-requests-holiday-&-seasonal-adjustments\n",
      "special-requests-educational-materials\n",
      "pickup-scheduling-&-rescheduling-pickup-policy-clarifications\n",
      "product-availability-&-substitutions-product-substitution-requests\n"
     ]
    }
   ],
   "source": [
    "for key in ticket_raw.keys():\n",
    "    print(key)"
   ]
  },
  {
   "cell_type": "code",
   "execution_count": null,
   "id": "c85862cd",
   "metadata": {},
   "outputs": [],
   "source": [
    "CATEGORIES = {'order-modifications': ['item-additions',\n",
    "  'item-removals',\n",
    "  'quantity-adjustments',\n",
    "  'late-modification-requests'],\n",
    " 'order-cancellations': ['standard-cancellations',\n",
    "  'urgent-cancellations',\n",
    "  'rescheduled-orders'],\n",
    " 'delivery-issues': ['late-deliveries',\n",
    "  'missed-deliveries',\n",
    "  'incomplete-deliveries',\n",
    "  'damaged-goods',\n",
    "  'delivery-confirmation-issues'],\n",
    " 'pickup-scheduling-&-rescheduling': ['new-pickup-requests',\n",
    "  'rescheduling-pickup',\n",
    "  'missed-pickups',\n",
    "  'pickup-policy-clarifications'],\n",
    " 'product-availability-&-substitutions': ['stock-availability-inquiries',\n",
    "  'out-of-stock-notifications',\n",
    "  'product-substitution-requests',\n",
    "  'special-item-requests'],\n",
    " 'grant-&-billing-issues': ['grant-fund-usage',\n",
    "  'incorrect-grant-deduction',\n",
    "  'billing-discrepancies',\n",
    "  'payment-&-credit-issues'],\n",
    " 'training-&-account-access': ['training-signups',\n",
    "  'missed-training-sessions',\n",
    "  'login-issues',\n",
    "  'new-user-account-requests'],\n",
    " 'emergency-situations': ['weather-related-disruptions',\n",
    "  'personal/organization-emergencies',\n",
    "  'food-safety-concerns',\n",
    "  'unexpected-facility-closures'],\n",
    " 'special-requests': ['educational-materials',\n",
    "  'large-event-orders',\n",
    "  'holiday-&-seasonal-adjustments'],\n",
    " 'technical-support': ['website-&-ordering-system-errors',\n",
    "  'email-&-communication-issues',\n",
    "  'data-entry-mistakes',\n",
    "  'general-it-assistance'],\n",
    " 'other': ['miscellaneous']}"
   ]
  },
  {
   "cell_type": "code",
   "execution_count": 70,
   "id": "f5400b8a",
   "metadata": {},
   "outputs": [],
   "source": [
    "from src.config import PROCESSED_DATA_DIR\n",
    "from psycopg2.extras import execute_values\n",
    "from datetime import datetime\n",
    "\n",
    "with open(PROCESSED_DATA_DIR / \"kb\"/ \"KB_order-modifications-item-removals.txt\", \"r\") as f:\n",
    "    kb = f.read()\n",
    "    execute_values(cursor,\n",
    "                   \"\"\"\n",
    "INSERT INTO knowledge_base \n",
    "(        main_category,\n",
    "        sub_category,\n",
    "        kb,\n",
    "        created_at,\n",
    "        updated_at)\n",
    "VALUES %s\n",
    "                   \"\"\",\n",
    "[('order-modifications',\n",
    "  'item-removals', \n",
    "  kb,\n",
    "  datetime.now(),\n",
    "  datetime.now())])"
   ]
  },
  {
   "cell_type": "code",
   "execution_count": 71,
   "id": "74ca4b6d",
   "metadata": {},
   "outputs": [],
   "source": [
    "conn.commit()"
   ]
  },
  {
   "cell_type": "markdown",
   "id": "4be5538b",
   "metadata": {},
   "source": [
    "Hey, I want you to help me create a detailed Knowledge Base for Capital Area Food Bank's support system. A small example file for KB is attached as well to help you structure the KB\n",
    " This Knowledge base will be used by a LLM backed chatbot to help answer partners questions, concerns and queries and will be given as context to the LLM to get relevant knowledge about that particular category of issues. Make it as detailed as possible to help the LLM output good responses\n",
    "You will be given a txt file containing ticket descriptions and their comments for a specific ticket category. The ticket category will be the name of the txt file. You need to create a Knowledge base based upon this txt file. Include FAQs, troubleshooting guides, and best practices relevant to CAFB Partners as well as any other relevant details that will equip the LLM to best help the partners \n",
    "Generate txt that can be directly copied to a txt file\n",
    "\n",
    "DO NOT HAVE ANY MISINFORMATION IN THE KB. For example, the LLM won't specifically know about delivery dates, so it shouldnt lie"
   ]
  },
  {
   "cell_type": "code",
   "execution_count": null,
   "id": "9c5652e9",
   "metadata": {},
   "outputs": [],
   "source": []
  }
 ],
 "metadata": {
  "kernelspec": {
   "display_name": ".venv",
   "language": "python",
   "name": "python3"
  },
  "language_info": {
   "codemirror_mode": {
    "name": "ipython",
    "version": 3
   },
   "file_extension": ".py",
   "mimetype": "text/x-python",
   "name": "python",
   "nbconvert_exporter": "python",
   "pygments_lexer": "ipython3",
   "version": "3.11.12"
  }
 },
 "nbformat": 4,
 "nbformat_minor": 5
}
